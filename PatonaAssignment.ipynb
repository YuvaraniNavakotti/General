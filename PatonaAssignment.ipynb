{
 "cells": [
  {
   "cell_type": "code",
   "execution_count": 119,
   "id": "c243f766",
   "metadata": {},
   "outputs": [],
   "source": [
    "import selenium\n",
    "from selenium import webdriver\n",
    "from selenium.webdriver.support.ui import WebDriverWait\n",
    "from selenium.webdriver.support import expected_conditions as EC\n",
    "from selenium.webdriver.common.by import By\n",
    "import urllib.request\n",
    "import os\n",
    "import traceback\n",
    "import time\n",
    "import requests\n",
    "from PIL import Image\n",
    "from io import StringIO\n",
    "import pandas as pd\n",
    "import warnings\n",
    "warnings.filterwarnings('ignore')"
   ]
  },
  {
   "cell_type": "markdown",
   "id": "a5e999a9",
   "metadata": {},
   "source": [
    "## Problem - 1"
   ]
  },
  {
   "cell_type": "code",
   "execution_count": 122,
   "id": "878a4537",
   "metadata": {},
   "outputs": [],
   "source": [
    "def collect_disease_info(url):\n",
    "    try:\n",
    "        driver=webdriver.Chrome('C:/Users/yn/Desktop/Yuvi/DataTrained/seleniumWebdriver/chromedriver.exe')\n",
    "        driver.get(url)\n",
    "        WebDriverWait(driver, 60).until(EC.presence_of_element_located((By.XPATH, '//div[@class=\"imageList\"]//a[@class=\"imageList__group__item\"]')))\n",
    "        list_disease=driver.find_elements_by_xpath('//div[@class=\"imageList\"]//a[@class=\"imageList__group__item\"]')\n",
    "        print(len(list_disease))\n",
    "        name_list=[]\n",
    "        url_list=[]\n",
    "        image_url_list=[]\n",
    "        \n",
    "        #Creating a main folder named DiseaseFolder\n",
    "        main_folder_path='C:/Users/yn/Desktop/Yuvi/DiseaseFolder'\n",
    "        if not os.path.exists(main_folder_path): os.makedirs(main_folder_path) \n",
    "            \n",
    "        for disease in list_disease:\n",
    "            name_list.append(disease.find_element_by_xpath('.//h6').text.replace('images','').strip())\n",
    "            url_list.append(disease.find_element_by_xpath('.').get_attribute('href'))\n",
    "            image_url_list.append(disease.find_element_by_xpath('.//img').get_attribute('src'))\n",
    "            \n",
    "        #Quit the webdriver\n",
    "        driver.quit()\n",
    "        #Creating data frame for the extracted data\n",
    "        result_table=pd.DataFrame({'Disease Name':name_list,'Disease Icon Imgae Url':url_list,'Disease Image Source Url':image_url_list})\n",
    "        \n",
    "        #Save the extracted info as csv inside main folder\n",
    "        result_table.to_csv(main_folder_path+'/DiseaseInfoTable.csv')\n",
    "        #create sub folder names DiseaseImages\n",
    "        sub_folder_path=main_folder_path+'/DiseaseImages'\n",
    "        if not os.path.exists(sub_folder_path): os.makedirs(sub_folder_path)  \n",
    "        \n",
    "        #Save each image inside the subfolder\n",
    "        i=1\n",
    "        for img_url in image_url_list:\n",
    "            img = requests.get(img_url)\n",
    "            with open(sub_folder_path+\"/image\"+str(i)+\".jpg\",'wb') as writer:\n",
    "                writer.write(img.content)\n",
    "            i+=1 \n",
    "      \n",
    "        return result_table\n",
    "    except Exception:\n",
    "        driver.quit()\n",
    "        traceback.print_exc()   "
   ]
  },
  {
   "cell_type": "code",
   "execution_count": 121,
   "id": "deeb338f",
   "metadata": {},
   "outputs": [
    {
     "name": "stdout",
     "output_type": "stream",
     "text": [
      "294\n"
     ]
    },
    {
     "data": {
      "text/html": [
       "<div>\n",
       "<style scoped>\n",
       "    .dataframe tbody tr th:only-of-type {\n",
       "        vertical-align: middle;\n",
       "    }\n",
       "\n",
       "    .dataframe tbody tr th {\n",
       "        vertical-align: top;\n",
       "    }\n",
       "\n",
       "    .dataframe thead th {\n",
       "        text-align: right;\n",
       "    }\n",
       "</style>\n",
       "<table border=\"1\" class=\"dataframe\">\n",
       "  <thead>\n",
       "    <tr style=\"text-align: right;\">\n",
       "      <th></th>\n",
       "      <th>Disease Name</th>\n",
       "      <th>Disease Icon Imgae Url</th>\n",
       "      <th>Disease Image Source Url</th>\n",
       "    </tr>\n",
       "  </thead>\n",
       "  <tbody>\n",
       "    <tr>\n",
       "      <th>0</th>\n",
       "      <td>Acne affecting the back</td>\n",
       "      <td>https://dermnetnz.org/topics/acne-affecting-th...</td>\n",
       "      <td>https://dermnetnz.org/assets/manualthumbnails/...</td>\n",
       "    </tr>\n",
       "    <tr>\n",
       "      <th>1</th>\n",
       "      <td>Acne affecting the face</td>\n",
       "      <td>https://dermnetnz.org/topics/acne-face-images/</td>\n",
       "      <td>https://dermnetnz.org/assets/Uploads/Screen-Sh...</td>\n",
       "    </tr>\n",
       "    <tr>\n",
       "      <th>2</th>\n",
       "      <td>Acne and other follicular disorder</td>\n",
       "      <td>https://dermnetnz.org/image-catalogue/acne-and...</td>\n",
       "      <td>https://dermnetnz.org/assets/Uploads/ocular-ro...</td>\n",
       "    </tr>\n",
       "    <tr>\n",
       "      <th>3</th>\n",
       "      <td>Acquired dermal macular hyperpigmentation</td>\n",
       "      <td>https://dermnetnz.org/topics/acquired-dermal-m...</td>\n",
       "      <td>https://dermnetnz.org/assets/Uploads/scaly/lp-...</td>\n",
       "    </tr>\n",
       "    <tr>\n",
       "      <th>4</th>\n",
       "      <td>Acral lentiginous melanoma</td>\n",
       "      <td>https://dermnetnz.org/topics/acral-lentiginous...</td>\n",
       "      <td>https://dermnetnz.org/assets/Uploads/20160516-...</td>\n",
       "    </tr>\n",
       "    <tr>\n",
       "      <th>...</th>\n",
       "      <td>...</td>\n",
       "      <td>...</td>\n",
       "      <td>...</td>\n",
       "    </tr>\n",
       "    <tr>\n",
       "      <th>289</th>\n",
       "      <td>Vulval lichen sclerosus</td>\n",
       "      <td>https://dermnetnz.org/topics/vulval-lichen-scl...</td>\n",
       "      <td>https://dermnetnz.org/assets/Uploads/074__Focu...</td>\n",
       "    </tr>\n",
       "    <tr>\n",
       "      <th>290</th>\n",
       "      <td>Vulval ulcer</td>\n",
       "      <td>https://dermnetnz.org/topics/vulval-ulcer-images/</td>\n",
       "      <td>https://dermnetnz.org/assets/Uploads/vulval-ul...</td>\n",
       "    </tr>\n",
       "    <tr>\n",
       "      <th>291</th>\n",
       "      <td>Vulvovaginal candidiasis</td>\n",
       "      <td>https://dermnetnz.org/topics/vulvovaginal-cand...</td>\n",
       "      <td>https://dermnetnz.org/assets/Uploads/candida2-...</td>\n",
       "    </tr>\n",
       "    <tr>\n",
       "      <th>292</th>\n",
       "      <td>Xanthelasma</td>\n",
       "      <td>https://dermnetnz.org/topics/xanthelasma-images/</td>\n",
       "      <td>https://dermnetnz.org/assets/Uploads/xanthelas...</td>\n",
       "    </tr>\n",
       "    <tr>\n",
       "      <th>293</th>\n",
       "      <td>Xeroderma pigmentosum</td>\n",
       "      <td>https://dermnetnz.org/topics/xeroderma-pigment...</td>\n",
       "      <td>https://dermnetnz.org/assets/Uploads/xeroderma...</td>\n",
       "    </tr>\n",
       "  </tbody>\n",
       "</table>\n",
       "<p>294 rows × 3 columns</p>\n",
       "</div>"
      ],
      "text/plain": [
       "                                  Disease Name  \\\n",
       "0                      Acne affecting the back   \n",
       "1                      Acne affecting the face   \n",
       "2           Acne and other follicular disorder   \n",
       "3    Acquired dermal macular hyperpigmentation   \n",
       "4                   Acral lentiginous melanoma   \n",
       "..                                         ...   \n",
       "289                    Vulval lichen sclerosus   \n",
       "290                               Vulval ulcer   \n",
       "291                   Vulvovaginal candidiasis   \n",
       "292                                Xanthelasma   \n",
       "293                      Xeroderma pigmentosum   \n",
       "\n",
       "                                Disease Icon Imgae Url  \\\n",
       "0    https://dermnetnz.org/topics/acne-affecting-th...   \n",
       "1       https://dermnetnz.org/topics/acne-face-images/   \n",
       "2    https://dermnetnz.org/image-catalogue/acne-and...   \n",
       "3    https://dermnetnz.org/topics/acquired-dermal-m...   \n",
       "4    https://dermnetnz.org/topics/acral-lentiginous...   \n",
       "..                                                 ...   \n",
       "289  https://dermnetnz.org/topics/vulval-lichen-scl...   \n",
       "290  https://dermnetnz.org/topics/vulval-ulcer-images/   \n",
       "291  https://dermnetnz.org/topics/vulvovaginal-cand...   \n",
       "292   https://dermnetnz.org/topics/xanthelasma-images/   \n",
       "293  https://dermnetnz.org/topics/xeroderma-pigment...   \n",
       "\n",
       "                              Disease Image Source Url  \n",
       "0    https://dermnetnz.org/assets/manualthumbnails/...  \n",
       "1    https://dermnetnz.org/assets/Uploads/Screen-Sh...  \n",
       "2    https://dermnetnz.org/assets/Uploads/ocular-ro...  \n",
       "3    https://dermnetnz.org/assets/Uploads/scaly/lp-...  \n",
       "4    https://dermnetnz.org/assets/Uploads/20160516-...  \n",
       "..                                                 ...  \n",
       "289  https://dermnetnz.org/assets/Uploads/074__Focu...  \n",
       "290  https://dermnetnz.org/assets/Uploads/vulval-ul...  \n",
       "291  https://dermnetnz.org/assets/Uploads/candida2-...  \n",
       "292  https://dermnetnz.org/assets/Uploads/xanthelas...  \n",
       "293  https://dermnetnz.org/assets/Uploads/xeroderma...  \n",
       "\n",
       "[294 rows x 3 columns]"
      ]
     },
     "execution_count": 121,
     "metadata": {},
     "output_type": "execute_result"
    }
   ],
   "source": [
    "collect_disease_info('https://dermnetnz.org/image-library/')"
   ]
  },
  {
   "cell_type": "markdown",
   "id": "f4abfa04",
   "metadata": {},
   "source": [
    "## Problem - 2"
   ]
  },
  {
   "cell_type": "code",
   "execution_count": 116,
   "id": "93bce55a",
   "metadata": {},
   "outputs": [],
   "source": [
    "def mystery(n):    \n",
    "    v=0\n",
    "    for i in range(1,n+1):\n",
    "        num=''\n",
    "        for j in range(1,i+1):\n",
    "            num+=str(i)\n",
    "        print(num)\n",
    "        v+=int(num)\n",
    "    return v\n",
    "        "
   ]
  },
  {
   "cell_type": "code",
   "execution_count": 118,
   "id": "a6d42994",
   "metadata": {},
   "outputs": [
    {
     "name": "stdout",
     "output_type": "stream",
     "text": [
      "1\n",
      "22\n"
     ]
    },
    {
     "data": {
      "text/plain": [
       "23"
      ]
     },
     "execution_count": 118,
     "metadata": {},
     "output_type": "execute_result"
    }
   ],
   "source": [
    "mystery(2)"
   ]
  },
  {
   "cell_type": "code",
   "execution_count": null,
   "id": "5b7b26f9",
   "metadata": {},
   "outputs": [],
   "source": []
  },
  {
   "cell_type": "code",
   "execution_count": null,
   "id": "1e8c05bf",
   "metadata": {},
   "outputs": [],
   "source": []
  }
 ],
 "metadata": {
  "kernelspec": {
   "display_name": "Python 3",
   "language": "python",
   "name": "python3"
  },
  "language_info": {
   "codemirror_mode": {
    "name": "ipython",
    "version": 3
   },
   "file_extension": ".py",
   "mimetype": "text/x-python",
   "name": "python",
   "nbconvert_exporter": "python",
   "pygments_lexer": "ipython3",
   "version": "3.8.8"
  }
 },
 "nbformat": 4,
 "nbformat_minor": 5
}
